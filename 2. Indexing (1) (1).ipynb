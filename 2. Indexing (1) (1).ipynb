{
 "cells": [
  {
   "cell_type": "markdown",
   "metadata": {},
   "source": [
    "## Indexing"
   ]
  },
  {
   "cell_type": "code",
   "execution_count": 1,
   "metadata": {},
   "outputs": [
    {
     "data": {
      "text/plain": [
       "[1, 2, 3, 4, 5]"
      ]
     },
     "execution_count": 1,
     "metadata": {},
     "output_type": "execute_result"
    }
   ],
   "source": [
    "#Lets define a simple list\n",
    "my_list = [1, 2, 3, 4, 5]\n",
    "my_list"
   ]
  },
  {
   "cell_type": "code",
   "execution_count": 3,
   "metadata": {},
   "outputs": [
    {
     "data": {
      "text/plain": [
       "3"
      ]
     },
     "execution_count": 3,
     "metadata": {},
     "output_type": "execute_result"
    }
   ],
   "source": [
    "#Give the element and get the index\n",
    "#element -> position of the element\n",
    "my_list.index(4)"
   ]
  },
  {
   "cell_type": "code",
   "execution_count": 4,
   "metadata": {},
   "outputs": [
    {
     "data": {
      "text/plain": [
       "3"
      ]
     },
     "execution_count": 4,
     "metadata": {},
     "output_type": "execute_result"
    }
   ],
   "source": [
    "# A list can be traversed left to right starting from 0 to n-1 where n is length of list. To access the third element\n",
    "#position -> element at that position\n",
    "my_list[2]"
   ]
  },
  {
   "cell_type": "code",
   "execution_count": 5,
   "metadata": {},
   "outputs": [
    {
     "data": {
      "text/plain": [
       "5"
      ]
     },
     "execution_count": 5,
     "metadata": {},
     "output_type": "execute_result"
    }
   ],
   "source": [
    "#To access the 5th element or the last element\n",
    "my_list[4]"
   ]
  },
  {
   "cell_type": "code",
   "execution_count": 3,
   "metadata": {},
   "outputs": [
    {
     "data": {
      "text/plain": [
       "5"
      ]
     },
     "execution_count": 3,
     "metadata": {},
     "output_type": "execute_result"
    }
   ],
   "source": [
    "#We can also traverse in the reverse order. But in reverse it starts from -1 to -n. To access the last element\n",
    "my_list[-1]"
   ]
  },
  {
   "cell_type": "code",
   "execution_count": 4,
   "metadata": {},
   "outputs": [
    {
     "data": {
      "text/plain": [
       "3"
      ]
     },
     "execution_count": 4,
     "metadata": {},
     "output_type": "execute_result"
    }
   ],
   "source": [
    "#To access the third last element\n",
    "my_list[-3]"
   ]
  },
  {
   "cell_type": "code",
   "execution_count": 14,
   "metadata": {},
   "outputs": [],
   "source": [
    "#Lets try the same on tuples"
   ]
  },
  {
   "cell_type": "code",
   "execution_count": 6,
   "metadata": {},
   "outputs": [
    {
     "data": {
      "text/plain": [
       "(1, 2, 3, 4, 5)"
      ]
     },
     "execution_count": 6,
     "metadata": {},
     "output_type": "execute_result"
    }
   ],
   "source": [
    "my_tuple = (1, 2, 3, 4, 5)\n",
    "my_tuple"
   ]
  },
  {
   "cell_type": "code",
   "execution_count": 9,
   "metadata": {},
   "outputs": [
    {
     "data": {
      "text/plain": [
       "2"
      ]
     },
     "execution_count": 9,
     "metadata": {},
     "output_type": "execute_result"
    }
   ],
   "source": [
    "my_tuple[-4]"
   ]
  },
  {
   "cell_type": "markdown",
   "metadata": {},
   "source": [
    "Exact same indexing can be performed on tuples"
   ]
  },
  {
   "cell_type": "code",
   "execution_count": 10,
   "metadata": {},
   "outputs": [
    {
     "data": {
      "text/plain": [
       "{1, 2, 3, 4, 5}"
      ]
     },
     "execution_count": 10,
     "metadata": {},
     "output_type": "execute_result"
    }
   ],
   "source": [
    "my_set = {1, 2, 3, 4, 5}\n",
    "my_set"
   ]
  },
  {
   "cell_type": "code",
   "execution_count": 5,
   "metadata": {},
   "outputs": [
    {
     "ename": "TypeError",
     "evalue": "'set' object is not subscriptable",
     "output_type": "error",
     "traceback": [
      "\u001b[0;31m---------------------------------------------------------------------------\u001b[0m",
      "\u001b[0;31mTypeError\u001b[0m                                 Traceback (most recent call last)",
      "\u001b[0;32m<ipython-input-5-158c424478a1>\u001b[0m in \u001b[0;36m<module>\u001b[0;34m\u001b[0m\n\u001b[0;32m----> 1\u001b[0;31m \u001b[0mmy_set\u001b[0m\u001b[0;34m[\u001b[0m\u001b[0;36m0\u001b[0m\u001b[0;34m]\u001b[0m\u001b[0;34m\u001b[0m\u001b[0;34m\u001b[0m\u001b[0m\n\u001b[0m",
      "\u001b[0;31mTypeError\u001b[0m: 'set' object is not subscriptable"
     ]
    }
   ],
   "source": [
    "my_set[0]"
   ]
  },
  {
   "cell_type": "markdown",
   "metadata": {},
   "source": [
    "Since the set is an unordered collection hence it doesnt support indexing"
   ]
  },
  {
   "cell_type": "code",
   "execution_count": 6,
   "metadata": {},
   "outputs": [
    {
     "data": {
      "text/plain": [
       "'P'"
      ]
     },
     "execution_count": 6,
     "metadata": {},
     "output_type": "execute_result"
    }
   ],
   "source": [
    "#Lets try the same on strings\n",
    "my_string = \"Python is a programming language\"\n",
    "\n",
    "my_string[0]"
   ]
  },
  {
   "cell_type": "code",
   "execution_count": 7,
   "metadata": {},
   "outputs": [
    {
     "data": {
      "text/plain": [
       "'e'"
      ]
     },
     "execution_count": 7,
     "metadata": {},
     "output_type": "execute_result"
    }
   ],
   "source": [
    "my_string[-1]"
   ]
  },
  {
   "cell_type": "markdown",
   "metadata": {},
   "source": [
    "Indexing is supported in strings as they are sequence of characters and ordered"
   ]
  },
  {
   "cell_type": "markdown",
   "metadata": {},
   "source": [
    "Proof of ordered collections and unordered collections"
   ]
  },
  {
   "cell_type": "code",
   "execution_count": 11,
   "metadata": {},
   "outputs": [
    {
     "data": {
      "text/plain": [
       "True"
      ]
     },
     "execution_count": 11,
     "metadata": {},
     "output_type": "execute_result"
    }
   ],
   "source": [
    "#Compare them using ==\n",
    "[1, 2, 3, 4] == [1, 2, 3, 4]"
   ]
  },
  {
   "cell_type": "code",
   "execution_count": 12,
   "metadata": {},
   "outputs": [
    {
     "data": {
      "text/plain": [
       "False"
      ]
     },
     "execution_count": 12,
     "metadata": {},
     "output_type": "execute_result"
    }
   ],
   "source": [
    "# Element wise same but position wise different and position matters in a list\n",
    "[1, 2, 3, 4] == [1, 2, 4, 3]"
   ]
  },
  {
   "cell_type": "code",
   "execution_count": 13,
   "metadata": {},
   "outputs": [
    {
     "data": {
      "text/plain": [
       "True"
      ]
     },
     "execution_count": 13,
     "metadata": {},
     "output_type": "execute_result"
    }
   ],
   "source": [
    "#Element wise same but since position is not a point of concern in sets hence they are same\n",
    "{1, 2, 3, 4} == {1, 3, 4, 2}"
   ]
  },
  {
   "cell_type": "markdown",
   "metadata": {},
   "source": [
    "#### How do you index a dictionary as it is also unordered"
   ]
  },
  {
   "cell_type": "code",
   "execution_count": 11,
   "metadata": {},
   "outputs": [
    {
     "data": {
      "text/plain": [
       "{'Ravi': 'Engineer', 'Mark': 'Analyst', 'James': 'Sales'}"
      ]
     },
     "execution_count": 11,
     "metadata": {},
     "output_type": "execute_result"
    }
   ],
   "source": [
    "#Lets test for indexing in dictionaries too\n",
    "\n",
    "my_dictionary = {'Ravi' : 'Engineer', 'Mark' : 'Analyst', 'James' : 'Sales'}\n",
    "my_dictionary"
   ]
  },
  {
   "cell_type": "code",
   "execution_count": 8,
   "metadata": {},
   "outputs": [
    {
     "ename": "KeyError",
     "evalue": "0",
     "output_type": "error",
     "traceback": [
      "\u001b[0;31m---------------------------------------------------------------------------\u001b[0m",
      "\u001b[0;31mKeyError\u001b[0m                                  Traceback (most recent call last)",
      "\u001b[0;32m<ipython-input-8-47d4b4525fb7>\u001b[0m in \u001b[0;36m<module>\u001b[0;34m\u001b[0m\n\u001b[1;32m      1\u001b[0m \u001b[0;31m# dictionaries are stored in a key:value pair manner. We can not access it in any order. rather we need keys to access values\u001b[0m\u001b[0;34m\u001b[0m\u001b[0;34m\u001b[0m\u001b[0;34m\u001b[0m\u001b[0m\n\u001b[0;32m----> 2\u001b[0;31m \u001b[0mmy_dictionary\u001b[0m\u001b[0;34m[\u001b[0m\u001b[0;36m0\u001b[0m\u001b[0;34m]\u001b[0m\u001b[0;34m\u001b[0m\u001b[0;34m\u001b[0m\u001b[0m\n\u001b[0m",
      "\u001b[0;31mKeyError\u001b[0m: 0"
     ]
    }
   ],
   "source": [
    "# dictionaries are stored in a key:value pair manner. We can not access it in any order. rather we need keys to access values\n",
    "my_dictionary[0]"
   ]
  },
  {
   "cell_type": "markdown",
   "metadata": {},
   "source": [
    "You have to access dictionary by its keys"
   ]
  },
  {
   "cell_type": "code",
   "execution_count": 16,
   "metadata": {},
   "outputs": [
    {
     "data": {
      "text/plain": [
       "'Engineer'"
      ]
     },
     "execution_count": 16,
     "metadata": {},
     "output_type": "execute_result"
    }
   ],
   "source": [
    "my_dictionary['Ravi']"
   ]
  },
  {
   "cell_type": "code",
   "execution_count": 17,
   "metadata": {},
   "outputs": [
    {
     "data": {
      "text/plain": [
       "'Sales'"
      ]
     },
     "execution_count": 17,
     "metadata": {},
     "output_type": "execute_result"
    }
   ],
   "source": [
    "my_dictionary['James']"
   ]
  },
  {
   "cell_type": "markdown",
   "metadata": {},
   "source": [
    "# Lets add a level of complexity. "
   ]
  },
  {
   "cell_type": "markdown",
   "metadata": {},
   "source": [
    "We understand that string, list and tuples are ordered and can be indexed. Sets are unordered and cant be indexed whereas dictionaries are unordered too but they can be accessed through the keys"
   ]
  },
  {
   "cell_type": "code",
   "execution_count": 13,
   "metadata": {},
   "outputs": [
    {
     "name": "stdout",
     "output_type": "stream",
     "text": [
      "[1, 2, 3, [4, 5, 6]]\n"
     ]
    }
   ],
   "source": [
    "my_first_list = [1, 2, 3]\n",
    "my_second_list = [4, 5, 6]\n",
    "\n",
    "my_first_list.append(my_second_list)\n",
    "print(my_first_list)"
   ]
  },
  {
   "cell_type": "code",
   "execution_count": 14,
   "metadata": {},
   "outputs": [
    {
     "data": {
      "text/plain": [
       "[4, 5, 6]"
      ]
     },
     "execution_count": 14,
     "metadata": {},
     "output_type": "execute_result"
    }
   ],
   "source": [
    "my_first_list[3]"
   ]
  },
  {
   "cell_type": "markdown",
   "metadata": {},
   "source": [
    "You observe my list is not purely a list of integers rather it is a list of integers and another set of  list of integers"
   ]
  },
  {
   "cell_type": "code",
   "execution_count": 16,
   "metadata": {},
   "outputs": [
    {
     "data": {
      "text/plain": [
       "6"
      ]
     },
     "execution_count": 16,
     "metadata": {},
     "output_type": "execute_result"
    }
   ],
   "source": [
    "my_first_list[3][-1]"
   ]
  },
  {
   "cell_type": "code",
   "execution_count": 22,
   "metadata": {},
   "outputs": [
    {
     "data": {
      "text/plain": [
       "4"
      ]
     },
     "execution_count": 22,
     "metadata": {},
     "output_type": "execute_result"
    }
   ],
   "source": [
    "my_first_list[-1][0]"
   ]
  },
  {
   "cell_type": "code",
   "execution_count": 17,
   "metadata": {},
   "outputs": [
    {
     "data": {
      "text/plain": [
       "[1, 2, 3, [4, 5, 6], ('Python', 'Java', 'Sql')]"
      ]
     },
     "execution_count": 17,
     "metadata": {},
     "output_type": "execute_result"
    }
   ],
   "source": [
    "my_first_list.append(('Python', 'Java', 'Sql'))\n",
    "my_first_list"
   ]
  },
  {
   "cell_type": "code",
   "execution_count": 48,
   "metadata": {},
   "outputs": [
    {
     "data": {
      "text/plain": [
       "'q'"
      ]
     },
     "execution_count": 48,
     "metadata": {},
     "output_type": "execute_result"
    }
   ],
   "source": [
    "my_first_list[4][-1][1]"
   ]
  },
  {
   "cell_type": "code",
   "execution_count": 26,
   "metadata": {},
   "outputs": [
    {
     "data": {
      "text/plain": [
       "'v'"
      ]
     },
     "execution_count": 26,
     "metadata": {},
     "output_type": "execute_result"
    }
   ],
   "source": [
    "my_first_list[-1][1][-2]"
   ]
  },
  {
   "cell_type": "code",
   "execution_count": 9,
   "metadata": {},
   "outputs": [
    {
     "data": {
      "text/plain": [
       "[['Supriya', 'Doctor', 30, 'Delhi'],\n",
       " ['Rakesh', 'Doctor', 38, 'Hyderabad'],\n",
       " ['Raja', ['Engineer', 'Manager'], 48, ['Kolkata', 'London']]]"
      ]
     },
     "execution_count": 9,
     "metadata": {},
     "output_type": "execute_result"
    }
   ],
   "source": [
    "my_unique_list = [['Supriya', 'Doctor', 30, 'Delhi'], ['Rakesh', 'Doctor', 38, 'Hyderabad'], ['Raja', ['Engineer', 'Manager'], 48, ['Kolkata', 'London']]]\n",
    "my_unique_list"
   ]
  },
  {
   "cell_type": "code",
   "execution_count": 11,
   "metadata": {},
   "outputs": [
    {
     "data": {
      "text/plain": [
       "48"
      ]
     },
     "execution_count": 11,
     "metadata": {},
     "output_type": "execute_result"
    }
   ],
   "source": [
    "#Lets say I want to access 48. How to access ?\n",
    "\n",
    "# my_unique_list[2][2]\n",
    "my_unique_list[-1][-2]"
   ]
  },
  {
   "cell_type": "markdown",
   "metadata": {},
   "source": [
    "The exact same thing can happend with tuples. As a task from the created dictionary in the previous exercise"
   ]
  },
  {
   "cell_type": "markdown",
   "metadata": {},
   "source": [
    "Tasks : \n",
    "\n",
    "1. Create a variable\n",
    "\n",
    "\t* An integer type\n",
    "\t* A List of integers\n",
    "\t* A string\n",
    "\t* A List of integer and String\n",
    "\t* A tuple of integers\n",
    "\t* A set of strings\n",
    "\t* A List of strings\n",
    "\n",
    "\n",
    "2. Create a dictionary and include all the above variables as value\n",
    "\tagainst a unique random key\n",
    "\n",
    "3. Try to access the different values and sub values in this dictionary\n",
    "\n",
    "\n",
    "Please attempt these two tasks and let me know once done in the chat window\n",
    "\n",
    "Steps to share :\n",
    "\n",
    "1. Open your github, create one if not created yet\n",
    "2. Create a new repository\n",
    "3. Add files in the repository\n",
    "4. Share me the link of repository in the chat window"
   ]
  },
  {
   "cell_type": "code",
   "execution_count": 3,
   "metadata": {},
   "outputs": [],
   "source": [
    "my_dictionary = {'key1' : {'subkey1' : [23, 24, 25], 'subkey2' : [20, 24, 29], 'subkey3' : [25, 28, 35]},\n",
    "                     'key2' : {'subkey1' : [-23, -24, -25], 'subkey2' : [-20, -24, -29]},\n",
    "                     'key3' : [('Ravi', 'Mahesh', 'Mary', 'Johnson'), ([(23, 39), (45, 90)], ('Doctor', 'Engineer'))]}"
   ]
  },
  {
   "cell_type": "markdown",
   "metadata": {},
   "source": [
    "Exercise : \n",
    "    \n",
    "    1. Find the subkey in key1 of my dictionary with maximum average\n",
    "    2. Find the sum of subkey2 in key2 of my dictionary\n",
    "    3. Access the last character of last name of first element of key3 - 'n'\n",
    "    4. Access the last element of first element of second element of key3 - (45, 90)\n",
    "    5. Access the fourth letter of \"Engineer\" - \"n\""
   ]
  },
  {
   "cell_type": "code",
   "execution_count": 1,
   "metadata": {},
   "outputs": [
    {
     "name": "stdout",
     "output_type": "stream",
     "text": [
      "The subkey with the maximum average is 'subkey3'\n"
     ]
    }
   ],
   "source": [
    "# Sample dictionary structure\n",
    "your_dict = {\n",
    "    \"key1\": {\n",
    "        \"subkey1\": [1, 2, 3, 4, 5],\n",
    "        \"subkey2\": [6, 7, 8, 9, 10],\n",
    "        \"subkey3\": [11, 12, 13, 14, 15],\n",
    "    }\n",
    "}\n",
    "\n",
    "# Function to find the subkey with maximum average\n",
    "def find_max_average_subkey(dictionary, key):\n",
    "    max_average = float('-inf')\n",
    "    max_subkey = None\n",
    "\n",
    "    if key in dictionary:\n",
    "        sub_dict = dictionary[key]\n",
    "\n",
    "        for subkey, sub_list in sub_dict.items():\n",
    "            average = sum(sub_list) / len(sub_list)\n",
    "\n",
    "            if average > max_average:\n",
    "                max_average = average\n",
    "                max_subkey = subkey\n",
    "\n",
    "    return max_subkey\n",
    "\n",
    "# Find the subkey with the maximum average in \"key1\"\n",
    "max_avg_subkey = find_max_average_subkey(your_dict, \"key1\")\n",
    "\n",
    "if max_avg_subkey is not None:\n",
    "    print(f\"The subkey with the maximum average is '{max_avg_subkey}'\")\n",
    "else:\n",
    "    print(\"No subkeys found in 'key1'\")\n",
    "    "
   ]
  },
  {
   "cell_type": "code",
   "execution_count": 2,
   "metadata": {},
   "outputs": [
    {
     "ename": "SyntaxError",
     "evalue": "EOL while scanning string literal (<ipython-input-2-cf124d0828ce>, line 23)",
     "output_type": "error",
     "traceback": [
      "\u001b[0;36m  File \u001b[0;32m\"<ipython-input-2-cf124d0828ce>\"\u001b[0;36m, line \u001b[0;32m23\u001b[0m\n\u001b[0;31m    print(f\"The sum of 'subkey2' in '\u001b[0m\n\u001b[0m                                     ^\u001b[0m\n\u001b[0;31mSyntaxError\u001b[0m\u001b[0;31m:\u001b[0m EOL while scanning string literal\n"
     ]
    }
   ],
   "source": [
    "# Sample dictionary structure\n",
    "your_dict = {\n",
    "    \"key2\": {\n",
    "        \"subkey1\": [10, 20, 30, 40, 50],\n",
    "        \"subkey2\": [5, 10, 15, 20, 25],\n",
    "        \"subkey3\": [1, 2, 3, 4, 5],\n",
    "    }\n",
    "}\n",
    "\n",
    "# Function to find the sum of subkey2 in key2\n",
    "def find_sum_of_subkey2(dictionary, key):\n",
    "    if key in dictionary:\n",
    "        sub_dict = dictionary[key]\n",
    "        if \"subkey2\" in sub_dict:\n",
    "            subkey2_sum = sum(sub_dict[\"subkey2\"])\n",
    "            return subkey2_sum\n",
    "    return None\n",
    "\n",
    "# Find the sum of subkey2 in \"key2\"\n",
    "subkey2_sum = find_sum_of_subkey2(your_dict, \"key2\")\n",
    "\n",
    "if subkey2_sum is not None:\n",
    "    print(f\"The sum of 'subkey2' in '\n"
   ]
  },
  {
   "cell_type": "code",
   "execution_count": 3,
   "metadata": {},
   "outputs": [
    {
     "name": "stdout",
     "output_type": "stream",
     "text": [
      "The sum of 'subkey2' in 'key2' is 75\n"
     ]
    }
   ],
   "source": [
    "# Sample dictionary structure\n",
    "your_dict = {\n",
    "    \"key2\": {\n",
    "        \"subkey1\": [10, 20, 30, 40, 50],\n",
    "        \"subkey2\": [5, 10, 15, 20, 25],\n",
    "        \"subkey3\": [1, 2, 3, 4, 5],\n",
    "    }\n",
    "}\n",
    "\n",
    "# Function to find the sum of subkey2 in key2\n",
    "def find_sum_of_subkey2(dictionary, key):\n",
    "    if key in dictionary:\n",
    "        sub_dict = dictionary[key]\n",
    "        if \"subkey2\" in sub_dict:\n",
    "            subkey2_sum = sum(sub_dict[\"subkey2\"])\n",
    "            return subkey2_sum\n",
    "    return None\n",
    "\n",
    "# Find the sum of subkey2 in \"key2\"\n",
    "subkey2_sum = find_sum_of_subkey2(your_dict, \"key2\")\n",
    "\n",
    "if subkey2_sum is not None:\n",
    "    print(f\"The sum of 'subkey2' in 'key2' is {subkey2_sum}\")\n",
    "else:\n",
    "    print(\"Either 'key2' or 'subkey2' not found in the dictionary.\")\n",
    "\n"
   ]
  },
  {
   "cell_type": "code",
   "execution_count": 4,
   "metadata": {},
   "outputs": [
    {
     "name": "stdout",
     "output_type": "stream",
     "text": [
      "The last character of the last name is: e\n"
     ]
    }
   ],
   "source": [
    "# Sample dictionary structure\n",
    "your_dict = {\n",
    "    \"key3\": [\n",
    "        {\n",
    "            \"first_name\": \"John\",\n",
    "            \"last_name\": \"Doe\"\n",
    "        },\n",
    "        {\n",
    "            \"first_name\": \"Jane\",\n",
    "            \"last_name\": \"Smith\"\n",
    "        }\n",
    "    ]\n",
    "}\n",
    "\n",
    "# Access the last character of the last name of the first element in \"key3\"\n",
    "if \"key3\" in your_dict and your_dict[\"key3\"]:\n",
    "    first_element = your_dict[\"key3\"][0]\n",
    "    last_name = first_element.get(\"last_name\", \"\")\n",
    "\n",
    "    if last_name:\n",
    "        last_character = last_name[-1]\n",
    "        print(f\"The last character of the last name is: {last_character}\")\n",
    "    else:\n",
    "        print(\"Last name not found for the first element in 'key3'.\")\n",
    "else:\n",
    "    print(\"'key3' is not found in the dictionary or is empty.\")\n"
   ]
  },
  {
   "cell_type": "code",
   "execution_count": 5,
   "metadata": {},
   "outputs": [
    {
     "name": "stdout",
     "output_type": "stream",
     "text": [
      "The fourth letter of 'Engineer' is: i\n"
     ]
    }
   ],
   "source": [
    "word = \"Engineer\"\n",
    "fourth_letter = word[3]  # Python uses 0-based indexing, so the fourth letter is at index 3\n",
    "\n",
    "print(f\"The fourth letter of 'Engineer' is: {fourth_letter}\")\n"
   ]
  },
  {
   "cell_type": "code",
   "execution_count": null,
   "metadata": {},
   "outputs": [],
   "source": []
  }
 ],
 "metadata": {
  "kernelspec": {
   "display_name": "Python 3",
   "language": "python",
   "name": "python3"
  },
  "language_info": {
   "codemirror_mode": {
    "name": "ipython",
    "version": 3
   },
   "file_extension": ".py",
   "mimetype": "text/x-python",
   "name": "python",
   "nbconvert_exporter": "python",
   "pygments_lexer": "ipython3",
   "version": "3.7.6"
  }
 },
 "nbformat": 4,
 "nbformat_minor": 4
}
